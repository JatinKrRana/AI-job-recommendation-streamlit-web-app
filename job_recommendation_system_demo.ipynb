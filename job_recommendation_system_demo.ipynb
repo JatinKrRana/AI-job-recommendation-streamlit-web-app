{
  "nbformat": 4,
  "nbformat_minor": 0,
  "metadata": {
    "colab": {
      "provenance": [],
      "authorship_tag": "ABX9TyMbgXSZ141L8JwouLG+PGl/",
      "include_colab_link": true
    },
    "kernelspec": {
      "name": "python3",
      "display_name": "Python 3"
    },
    "language_info": {
      "name": "python"
    }
  },
  "cells": [
    {
      "cell_type": "markdown",
      "metadata": {
        "id": "view-in-github",
        "colab_type": "text"
      },
      "source": [
        "<a href=\"https://colab.research.google.com/github/JatinKrRana/AI-job-recommendation-web-app/blob/main/job_recommendation_system_demo.ipynb\" target=\"_parent\"><img src=\"https://colab.research.google.com/assets/colab-badge.svg\" alt=\"Open In Colab\"/></a>"
      ]
    },
    {
      "cell_type": "markdown",
      "source": [
        "# 🧠 AI-Powered Job Recommendation System using LangChain & Gemini\n",
        "\n",
        "## 📌 Introduction\n",
        "This notebook contains the initial code exploration and testing for the AI Job Recommendation Web App.\n",
        "We experiment with:\n",
        "- LangChain prompt templates\n",
        "- Gemini API integration\n",
        "- Job dataset loading\n",
        "- RAG (Retrieval-Augmented Generation) pipeline setup\n"
      ],
      "metadata": {
        "id": "t4TSlm_ADwa6"
      }
    },
    {
      "cell_type": "code",
      "execution_count": null,
      "metadata": {
        "collapsed": true,
        "id": "GZGzEn3DC5hH"
      },
      "outputs": [],
      "source": [
        "!pip install langchain-groq langchain python-dotenv pdfplumber python-docx serpapi\n",
        "!pip install streamlit"
      ]
    },
    {
      "cell_type": "code",
      "source": [
        "!pip uninstall -y serpapi google-search-results\n",
        "!pip install google-search-results==2.4.2\n"
      ],
      "metadata": {
        "collapsed": true,
        "id": "DoSYOdU7JjTS"
      },
      "execution_count": null,
      "outputs": []
    },
    {
      "cell_type": "code",
      "source": [
        "import os\n",
        "import pdfplumber\n",
        "import docx\n",
        "from langchain_groq import ChatGroq\n",
        "from langchain.prompts import PromptTemplate\n"
      ],
      "metadata": {
        "id": "_x3ANU14D7Gh"
      },
      "execution_count": 3,
      "outputs": []
    },
    {
      "cell_type": "code",
      "source": [
        "#Load Environment Variables\n",
        "os.environ[\"GROQ_API_KEY\"] = \"your api key\"\n",
        "os.environ[\"SERPAPI_API_KEY\"] = \"your api key\"\n"
      ],
      "metadata": {
        "id": "PB8g5Qs7EFb0"
      },
      "execution_count": 4,
      "outputs": []
    },
    {
      "cell_type": "code",
      "source": [
        "# Testing LangChain + Gemini\n",
        "llm = ChatGroq(model=\"llama3-8b-8192\", temperature=0)\n",
        "\n",
        "prompt_template = PromptTemplate(\n",
        "    input_variables=[\"skills\", \"experience\", \"location\", \"job_type\"],\n",
        "    template=\"\"\"\n",
        "You are a job recommendation assistant. Based on the details below, suggest 5 suitable jobs with reasons:\n",
        "\n",
        "Skills: {skills}\n",
        "Experience: {experience}\n",
        "Location: {location}\n",
        "Job Type: {job_type}\n",
        "    \"\"\"\n",
        ")\n",
        "\n",
        "final_prompt = prompt_template.format(\n",
        "    skills=\"Python, SQL, Data Analysis\",\n",
        "    experience=\"1 year internship in analytics\",\n",
        "    location=\"India\",\n",
        "    job_type=\"Internship\"\n",
        ")\n",
        "\n",
        "response = llm.invoke(final_prompt)\n",
        "print(response.content)\n"
      ],
      "metadata": {
        "collapsed": true,
        "id": "2OvKwrVKELNB"
      },
      "execution_count": null,
      "outputs": []
    },
    {
      "cell_type": "code",
      "source": [
        "# Testing Job Scraper (Google Jobs via SerpAPI)\n",
        "from serpapi import GoogleSearch\n",
        "\n",
        "def get_google_jobs(query, location=\"India\", job_type=None):\n",
        "    params = {\n",
        "        \"engine\": \"google_jobs\",\n",
        "        \"q\": query,\n",
        "        \"location\": location,\n",
        "        \"api_key\": os.environ[\"SERPAPI_API_KEY\"]\n",
        "    }\n",
        "    search = GoogleSearch(params)\n",
        "    results = search.get_dict()\n",
        "    return results.get(\"jobs_results\", [])\n",
        "\n",
        "jobs = get_google_jobs(\"Data Analyst Internship\", \"India\")\n",
        "jobs[:2]  # show first two results\n"
      ],
      "metadata": {
        "id": "igrkM7JwEQHh"
      },
      "execution_count": null,
      "outputs": []
    },
    {
      "cell_type": "code",
      "source": [
        "# Mini Retrieval-Augmented Generation Test\n",
        "\n",
        "# Step 1: Retrieve jobs (dummy data if SerpAPI isn't available)\n",
        "jobs = [\n",
        "    {\"title\": \"Data Analyst Intern\", \"company_name\": \"ABC Corp\", \"location\": \"Bangalore\"},\n",
        "    {\"title\": \"Business Intelligence Intern\", \"company_name\": \"XYZ Pvt Ltd\", \"location\": \"Mumbai\"},\n",
        "    {\"title\": \"Python Developer Intern\", \"company_name\": \"Tech Solutions\", \"location\": \"Delhi\"},\n",
        "    {\"title\": \"Data Science Intern\", \"company_name\": \"AI Labs\", \"location\": \"Pune\"},\n",
        "    {\"title\": \"SQL Developer Intern\", \"company_name\": \"DataWorks\", \"location\": \"Hyderabad\"}\n",
        "]\n",
        "\n",
        "# Step 2: Format job data into plain text\n",
        "jobs_text = \"\\n\".join([f\"{job['title']} at {job['company_name']} ({job['location']})\" for job in jobs])\n",
        "\n",
        "# Step 3: Create a prompt for the LLM\n",
        "rag_prompt = PromptTemplate(\n",
        "    input_variables=[\"skills\", \"jobs\"],\n",
        "    template=\"\"\"\n",
        "You are an AI assistant recommending jobs.\n",
        "Given these skills: {skills}\n",
        "And these job postings:\n",
        "{jobs}\n",
        "\n",
        "Select the top 3 most suitable jobs and explain why they match.\n",
        "\"\"\"\n",
        ")\n",
        "\n",
        "# Step 4: Run the LLM with the prompt\n",
        "formatted_prompt = rag_prompt.format(\n",
        "    skills=\"Python, SQL, Data Analysis\",\n",
        "    jobs=jobs_text\n",
        ")\n",
        "\n",
        "rag_response = llm.invoke(formatted_prompt)\n",
        "\n",
        "# Step 5: Display the AI's recommendations\n",
        "print(rag_response.content)\n"
      ],
      "metadata": {
        "id": "qqn-cLCFKdgp"
      },
      "execution_count": null,
      "outputs": []
    },
    {
      "cell_type": "markdown",
      "source": [
        "## 📌 Conclusion\n",
        "- Successfully tested LangChain prompt template\n",
        "- Integrated Gemini (via Groq) for job recommendations\n",
        "- Fetched real job postings using SerpAPI\n",
        "- Verified end-to-end RAG pipeline before integrating into Streamlit app\n"
      ],
      "metadata": {
        "id": "gdgcuJ_8EUM5"
      }
    }
  ]
}